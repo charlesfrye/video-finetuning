{
 "cells": [
  {
   "cell_type": "markdown",
   "id": "2d7b1d60-dbf6-49bd-bd49-0ed5cf87ef20",
   "metadata": {},
   "source": [
    "# Change directory into the `ai-toolkit` repo clone"
   ]
  },
  {
   "cell_type": "code",
   "execution_count": null,
   "id": "e01f754b-e809-4217-9a56-9a2be4edf55e",
   "metadata": {},
   "outputs": [],
   "source": [
    "%cd /root/ai-toolkit"
   ]
  },
  {
   "cell_type": "markdown",
   "id": "c293e98c-4eb1-4c0a-acb3-0b873ddb8611",
   "metadata": {},
   "source": [
    "# Load and optionally edit configuration"
   ]
  },
  {
   "cell_type": "code",
   "execution_count": null,
   "id": "88c4dcae-f5f6-430a-a632-0a93e090e18d",
   "metadata": {},
   "outputs": [],
   "source": [
    "!ls config/"
   ]
  },
  {
   "cell_type": "code",
   "execution_count": null,
   "id": "929ac7ff-7d3c-410f-b25c-c3e66b61b2d2",
   "metadata": {},
   "outputs": [],
   "source": [
    "import yaml\n",
    "\n",
    "yaml_path = \"config/train_cfg.yaml\"\n",
    "\n",
    "with open(yaml_path) as f:\n",
    "    wan_config = yaml.safe_load(f)"
   ]
  },
  {
   "cell_type": "markdown",
   "id": "aaa45f4f-dd0d-4a72-95a0-1f2a97456898",
   "metadata": {},
   "source": [
    "### Most things you'd want to change are in `.config.process.0`"
   ]
  },
  {
   "cell_type": "code",
   "execution_count": null,
   "id": "420f961d-245c-47fc-a801-e43a9021757d",
   "metadata": {},
   "outputs": [],
   "source": [
    "wan_config_dict = wan_config[\"config\"][\"process\"][0]"
   ]
  },
  {
   "cell_type": "code",
   "execution_count": null,
   "id": "39d35a32-9e5a-4a9d-8db3-7485b58d0d98",
   "metadata": {},
   "outputs": [],
   "source": [
    "wan_config_dict"
   ]
  },
  {
   "cell_type": "code",
   "execution_count": null,
   "id": "bc7cbb70-dcca-463a-9178-1fdc03130b23",
   "metadata": {},
   "outputs": [],
   "source": [
    "# wan_config_dict[\"train\"][\"steps\"] = 4000 # example of over-riding training steps"
   ]
  },
  {
   "cell_type": "markdown",
   "id": "3094f864-3b3b-49c5-bd24-d13008581d20",
   "metadata": {},
   "source": [
    "### Set the model save directory if not provided"
   ]
  },
  {
   "cell_type": "code",
   "execution_count": null,
   "id": "02eb9825-fb1b-4a13-bb9a-ebcec52392e8",
   "metadata": {},
   "outputs": [],
   "source": [
    "from hashlib import md5 as hasher\n",
    "\n",
    "name = None  # override manually if you want\n",
    "\n",
    "if name is None:\n",
    "    if wan_config[\"config\"][\"name\"] == \"my_first_wan21_1b_lora_v1\":\n",
    "        name = hasher(str(wan_config_dict).encode(\"utf-8\")).hexdigest()\n",
    "\n",
    "wan_config[\"config\"][\"name\"] = name\n",
    "wan_config[\"config\"][\"name\"]"
   ]
  },
  {
   "cell_type": "markdown",
   "id": "e87b659a-2ae2-47bd-947f-b7d0da1eb453",
   "metadata": {},
   "source": [
    "### Persist the config to disk"
   ]
  },
  {
   "cell_type": "code",
   "execution_count": null,
   "id": "89031a1e-8e15-4704-b5e9-df9b124c90ac",
   "metadata": {},
   "outputs": [],
   "source": [
    "with open('config/final_train_cfg.yaml', 'w') as file:\n",
    "    yaml.dump(wan_config, file)"
   ]
  },
  {
   "cell_type": "markdown",
   "id": "32aed9d6-3484-40d4-8ceb-7e285299d971",
   "metadata": {},
   "source": [
    "# Run fine-tuning"
   ]
  },
  {
   "cell_type": "code",
   "execution_count": null,
   "id": "d7f8aff6-4d84-45cd-83db-954ca2fffde9",
   "metadata": {},
   "outputs": [],
   "source": [
    "!python run.py config/final_train_cfg.yaml"
   ]
  },
  {
   "cell_type": "code",
   "execution_count": null,
   "id": "3959cc2c-b513-4777-a6c7-4f63a5845fa2",
   "metadata": {},
   "outputs": [],
   "source": []
  }
 ],
 "metadata": {
  "kernelspec": {
   "display_name": "Python 3 (ipykernel)",
   "language": "python",
   "name": "python3"
  },
  "language_info": {
   "codemirror_mode": {
    "name": "ipython",
    "version": 3
   },
   "file_extension": ".py",
   "mimetype": "text/x-python",
   "name": "python",
   "nbconvert_exporter": "python",
   "pygments_lexer": "ipython3",
   "version": "3.12.6"
  }
 },
 "nbformat": 4,
 "nbformat_minor": 5
}
