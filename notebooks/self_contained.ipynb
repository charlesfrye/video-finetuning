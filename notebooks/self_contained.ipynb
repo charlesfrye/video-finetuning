{
  "nbformat": 4,
  "nbformat_minor": 0,
  "metadata": {
    "colab": {
      "provenance": []
    },
    "kernelspec": {
      "name": "python3",
      "display_name": "Python 3"
    },
    "language_info": {
      "name": "python"
    }
  },
  "cells": [
    {
      "cell_type": "code",
      "execution_count": null,
      "metadata": {
        "id": "5dJnS60NQ1BL"
      },
      "outputs": [],
      "source": [
        "# run a shell command to install modal\n",
        "!pip install -qqq modal"
      ]
    },
    {
      "cell_type": "code",
      "source": [
        "# clean up Jupyter cell outputs for shell commands a bit\n",
        "%env TERM=dumb"
      ],
      "metadata": {
        "id": "KigDYhhWV5QH"
      },
      "execution_count": null,
      "outputs": []
    },
    {
      "cell_type": "code",
      "source": [
        "# setup modal, including creating an account\n",
        "!modal setup"
      ],
      "metadata": {
        "id": "s1aKocnkQ5z5"
      },
      "execution_count": null,
      "outputs": []
    },
    {
      "cell_type": "code",
      "source": [
        "!git clone https://github.com/charlesfrye/video-finetuning"
      ],
      "metadata": {
        "id": "wVquJPb7RPqN"
      },
      "execution_count": null,
      "outputs": []
    },
    {
      "cell_type": "code",
      "source": [
        "%cd /content/video-finetuning"
      ],
      "metadata": {
        "id": "8BzHzveDRZ1D"
      },
      "execution_count": null,
      "outputs": []
    },
    {
      "cell_type": "code",
      "source": [
        "# see the README for detailed instructions\n",
        "\n",
        "!cat README.md"
      ],
      "metadata": {
        "id": "YF9fN4_4Rb6Q"
      },
      "execution_count": null,
      "outputs": []
    },
    {
      "cell_type": "code",
      "source": [
        "# click the stop button next to this cell or select \"Runtime > Interrupt execution\"\n",
        "# when you are done training\n",
        "\n",
        "!modal run train_from_notebook.py"
      ],
      "metadata": {
        "id": "S9T-Z6YeSU8g"
      },
      "execution_count": null,
      "outputs": []
    },
    {
      "cell_type": "code",
      "source": [
        "# if you didn't note the ID of your finetuned model, find it here\n",
        "\n",
        "!modal volume ls finetune-video-models"
      ],
      "metadata": {
        "id": "-H_aT5GqVZOr"
      },
      "execution_count": null,
      "outputs": []
    },
    {
      "cell_type": "code",
      "source": [
        "finetune_id = None  # set it here\n",
        "\n",
        "finetune_id = \"8fd0a826c1c8ef547ed70b575fc191e5\"\n",
        "\n",
        "assert finetune_id is not None"
      ],
      "metadata": {
        "id": "K3pEP7QNVdcX"
      },
      "execution_count": null,
      "outputs": []
    },
    {
      "cell_type": "code",
      "source": [
        "!modal run inference.py --finetune-id {finetune_id} --num-frames 15"
      ],
      "metadata": {
        "id": "-SCUuH_hVVf-"
      },
      "execution_count": null,
      "outputs": []
    },
    {
      "cell_type": "code",
      "source": [
        "# find video files\n",
        "\n",
        "files = !find /tmp -name *.mp4\n",
        "files"
      ],
      "metadata": {
        "id": "GLVPQMLTWvMy"
      },
      "execution_count": null,
      "outputs": []
    },
    {
      "cell_type": "code",
      "source": [
        "# display video files in notebook\n",
        "import moviepy.editor\n",
        "\n",
        "# you can also find the /tmp folder in the file browser\n",
        "# to download them locally\n",
        "\n",
        "video = files[0]\n",
        "print(video)\n",
        "\n",
        "moviepy.editor.ipython_display(video)"
      ],
      "metadata": {
        "id": "AiwXteAfXtJu"
      },
      "execution_count": null,
      "outputs": []
    },
    {
      "cell_type": "code",
      "source": [
        "# deploy inference when you're ready\n",
        "!modal deploy inference.py"
      ],
      "metadata": {
        "id": "yPMMr2xYX4-b"
      },
      "execution_count": null,
      "outputs": []
    },
    {
      "cell_type": "code",
      "source": [
        "# once inference is deployed, you can run the music video generator\n",
        "!modal run music_video_generator.py --help"
      ],
      "metadata": {
        "id": "7UPYLoKtYSEH"
      },
      "execution_count": null,
      "outputs": []
    },
    {
      "cell_type": "code",
      "source": [
        "# this takes a few minutes and will consume a dollar or two of Modal resources!\n",
        "# note that Modal includes $30/month of free credits\n",
        "assert finetune_id is not None\n",
        "\n",
        "!modal run music_video_generator.py --finetune-id {finetune_id}"
      ],
      "metadata": {
        "id": "PDriH30cYkh6"
      },
      "execution_count": null,
      "outputs": []
    },
    {
      "cell_type": "code",
      "source": [
        "# find video files\n",
        "\n",
        "files = !find /tmp -name *.mp4\n",
        "files"
      ],
      "metadata": {
        "id": "suEkvDrIZDLJ"
      },
      "execution_count": null,
      "outputs": []
    },
    {
      "cell_type": "code",
      "source": [
        "# display video files in notebook\n",
        "import moviepy.editor\n",
        "\n",
        "# you can also find the /tmp folder in the file browser\n",
        "# to download them locally\n",
        "\n",
        "moviepy.editor.ipython_display(files[-1])"
      ],
      "metadata": {
        "id": "Sj7czaQEZEdc"
      },
      "execution_count": null,
      "outputs": []
    }
  ]
}