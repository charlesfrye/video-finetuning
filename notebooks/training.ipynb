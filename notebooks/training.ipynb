{
 "cells": [
  {
   "cell_type": "markdown",
   "id": "2d7b1d60-dbf6-49bd-bd49-0ed5cf87ef20",
   "metadata": {
    "editable": true,
    "slideshow": {
     "slide_type": ""
    },
    "tags": []
   },
   "source": [
    "# Change directory into the `ai-toolkit` repo clone"
   ]
  },
  {
   "cell_type": "code",
   "execution_count": null,
   "id": "e01f754b-e809-4217-9a56-9a2be4edf55e",
   "metadata": {},
   "outputs": [],
   "source": [
    "%cd /root/ai-toolkit"
   ]
  },
  {
   "cell_type": "markdown",
   "id": "c293e98c-4eb1-4c0a-acb3-0b873ddb8611",
   "metadata": {},
   "source": [
    "# Load and set configuration"
   ]
  },
  {
   "cell_type": "code",
   "execution_count": null,
   "id": "88c4dcae-f5f6-430a-a632-0a93e090e18d",
   "metadata": {},
   "outputs": [],
   "source": [
    "!ls config/"
   ]
  },
  {
   "cell_type": "code",
   "execution_count": null,
   "id": "929ac7ff-7d3c-410f-b25c-c3e66b61b2d2",
   "metadata": {},
   "outputs": [],
   "source": [
    "import yaml\n",
    "\n",
    "yaml_path = \"config/train_cfg.yaml\"\n",
    "\n",
    "with open(yaml_path) as f:\n",
    "    wan_config = yaml.safe_load(f)"
   ]
  },
  {
   "cell_type": "markdown",
   "id": "aaa45f4f-dd0d-4a72-95a0-1f2a97456898",
   "metadata": {},
   "source": [
    "### Most things you'd want to change are in `.config.process.0`"
   ]
  },
  {
   "cell_type": "code",
   "execution_count": null,
   "id": "420f961d-245c-47fc-a801-e43a9021757d",
   "metadata": {},
   "outputs": [],
   "source": [
    "wan_config_dict = wan_config[\"config\"][\"process\"][0]"
   ]
  },
  {
   "cell_type": "code",
   "execution_count": null,
   "id": "39d35a32-9e5a-4a9d-8db3-7485b58d0d98",
   "metadata": {},
   "outputs": [],
   "source": [
    "wan_config_dict"
   ]
  },
  {
   "cell_type": "code",
   "execution_count": null,
   "id": "bc7cbb70-dcca-463a-9178-1fdc03130b23",
   "metadata": {},
   "outputs": [],
   "source": [
    "# wan_config_dict[\"train\"][\"steps\"] = 4000 # example of over-riding training steps"
   ]
  },
  {
   "cell_type": "markdown",
   "id": "d662c7b6-67d3-4d0a-9b3f-85441ec7ac88",
   "metadata": {},
   "source": [
    "### Select the dataset"
   ]
  },
  {
   "cell_type": "code",
   "execution_count": null,
   "id": "2d4553be-a55f-4b03-97b4-84728e7a9664",
   "metadata": {},
   "outputs": [],
   "source": [
    "!ls /root/ai-toolkit/data"
   ]
  },
  {
   "cell_type": "code",
   "execution_count": null,
   "id": "6d50a205-58f3-4df9-bd37-66343e52b639",
   "metadata": {},
   "outputs": [],
   "source": [
    "default_dataset_path = \"/root/ai-toolkit/data/sample\"\n",
    "my_dataset_path = None # set this to train on your data!\n",
    "\n",
    "dataset_path = my_dataset_path or default_dataset_path"
   ]
  },
  {
   "cell_type": "code",
   "execution_count": null,
   "id": "47b31575-b80e-4e4e-83dc-24fd1ee8d4dd",
   "metadata": {},
   "outputs": [],
   "source": [
    "wan_config_dict[\"datasets\"][0][\"folder_path\"] = dataset_path"
   ]
  },
  {
   "cell_type": "markdown",
   "id": "16da5611-6bea-4cae-93ac-bec2ba29a7ad",
   "metadata": {},
   "source": [
    "### Select the model"
   ]
  },
  {
   "cell_type": "code",
   "execution_count": null,
   "id": "1d132026-f641-43f1-9630-9beeda58c364",
   "metadata": {},
   "outputs": [],
   "source": [
    "model = \"1.3B\"  # start with the smaller one, it trains and runs much faster\n",
    "# model = \"14B\"  # run the larger model for better results\n",
    "\n",
    "wan_config_dict[\"model\"][\"name_or_path\"] = f\"Wan-AI/Wan2.1-T2V-{model}-Diffusers\""
   ]
  },
  {
   "cell_type": "markdown",
   "id": "03f2e9cb-b224-4d29-a583-9ef073c18c1b",
   "metadata": {},
   "source": [
    "### Set the training parameters"
   ]
  },
  {
   "cell_type": "code",
   "execution_count": null,
   "id": "d6c844d9-d36b-43fe-9149-c6687dcdbd5d",
   "metadata": {},
   "outputs": [],
   "source": [
    "import math\n",
    "\n",
    "batch_size = 4 if model == \"1.3B\" else 2\n",
    "wan_config_dict[\"train\"][\"batch_size\"] = batch_size\n",
    "wan_config_dict[\"train\"][\"gradient_checkpointing\"] = True\n",
    "wan_config_dict[\"train\"][\"lr\"] = 1e-4\n",
    "wan_config_dict[\"train\"][\"optimizer_params\"][\"weight_decay\"] = 1e-4 # * math.sqrt(batch_size)\n",
    "\n",
    "wan_config_dict[\"datasets\"][0][\"shuffle_tokens\"] = True\n",
    "\n",
    "steps = 1000 // int(math.sqrt(batch_size))\n",
    "check_every = steps // 4\n",
    "\n",
    "wan_config_dict[\"train\"][\"steps\"] = steps\n",
    "wan_config_dict[\"save\"][\"save_every\"] = check_every\n",
    "wan_config_dict[\"sample\"][\"sample_every\"] = check_every"
   ]
  },
  {
   "cell_type": "markdown",
   "id": "3094f864-3b3b-49c5-bd24-d13008581d20",
   "metadata": {},
   "source": [
    "### Set the model save directory if not provided"
   ]
  },
  {
   "cell_type": "code",
   "execution_count": null,
   "id": "02eb9825-fb1b-4a13-bb9a-ebcec52392e8",
   "metadata": {},
   "outputs": [],
   "source": [
    "from hashlib import md5 as hasher\n",
    "\n",
    "name = None  # override manually if you want\n",
    "\n",
    "name = hasher(str(wan_config_dict).encode(\"utf-8\")).hexdigest()\n",
    "\n",
    "wan_config[\"config\"][\"name\"] = name\n",
    "wan_config[\"config\"][\"name\"]"
   ]
  },
  {
   "cell_type": "markdown",
   "id": "e87b659a-2ae2-47bd-947f-b7d0da1eb453",
   "metadata": {},
   "source": [
    "### Persist the config to disk"
   ]
  },
  {
   "cell_type": "code",
   "execution_count": null,
   "id": "89031a1e-8e15-4704-b5e9-df9b124c90ac",
   "metadata": {},
   "outputs": [],
   "source": [
    "with open('config/final_train_cfg.yaml', 'w') as file:\n",
    "    yaml.dump(wan_config, file)"
   ]
  },
  {
   "cell_type": "markdown",
   "id": "32aed9d6-3484-40d4-8ceb-7e285299d971",
   "metadata": {},
   "source": [
    "# Run fine-tuning"
   ]
  },
  {
   "cell_type": "code",
   "execution_count": null,
   "id": "d7f8aff6-4d84-45cd-83db-954ca2fffde9",
   "metadata": {},
   "outputs": [],
   "source": [
    "!python run.py config/final_train_cfg.yaml"
   ]
  }
 ],
 "metadata": {
  "kernelspec": {
   "display_name": "Python 3 (ipykernel)",
   "language": "python",
   "name": "python3"
  },
  "language_info": {
   "codemirror_mode": {
    "name": "ipython",
    "version": 3
   },
   "file_extension": ".py",
   "mimetype": "text/x-python",
   "name": "python",
   "nbconvert_exporter": "python",
   "pygments_lexer": "ipython3",
   "version": "3.12.6"
  }
 },
 "nbformat": 4,
 "nbformat_minor": 5
}
